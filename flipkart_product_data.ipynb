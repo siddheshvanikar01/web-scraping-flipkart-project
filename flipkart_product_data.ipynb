{
 "cells": [
  {
   "cell_type": "code",
   "execution_count": 1,
   "id": "99f5af89-c73d-463e-88a7-126440274fe4",
   "metadata": {},
   "outputs": [
    {
     "name": "stdout",
     "output_type": "stream",
     "text": [
      "Data has been written to flipkart_product_data.xlsx\n"
     ]
    }
   ],
   "source": [
    "# Required imports\n",
    "from bs4 import BeautifulSoup\n",
    "import pandas as pd\n",
    "\n",
    "# Load the HTML file\n",
    "with open(\"flipkart.html\", \"r\", encoding=\"utf-8\") as file:\n",
    "    content = file.read()\n",
    "\n",
    "# Parse the HTML using BeautifulSoup\n",
    "soup = BeautifulSoup(content, \"html.parser\")\n",
    "\n",
    "# Extracting the product name\n",
    "product_names = [div.get_text(strip=True) for div in soup.find_all(\"div\", class_=\"KzDlHZ\") if div.get_text(strip=True) != \" \"]\n",
    "\n",
    "# Extracting the product price\n",
    "product_prices = [div.get_text(strip=True) for div in soup.find_all(\"div\", class_=\"Nx9bqj _4b5DiR\") if div.get_text(strip=True) != \" \"]\n",
    "\n",
    "# Extracting the product size\n",
    "product_sizes = [li.get_text(strip=True) for li in soup.find_all(\"li\", class_=\"J+igdf\") if \"Full HD+\" in li.get_text(strip=True)]\n",
    "\n",
    "# Extracting the product storage\n",
    "product_storage = [li.get_text(strip=True) for li in soup.find_all(\"li\", class_=\"J+igdf\") if \"GB RAM\" in li.get_text(strip=True)]\n",
    "\n",
    "# Extracting the product camera\n",
    "product_camera = [li.get_text(strip=True) for li in soup.find_all(\"li\", class_=\"J+igdf\") if \"MP\" in li.get_text(strip=True)]\n",
    "\n",
    "# Extracting the product battery\n",
    "product_battery = [li.get_text(strip=True) for li in soup.find_all(\"li\", class_=\"J+igdf\") if \"mAh Battery\" in li.get_text(strip=True)]\n",
    "\n",
    "# Extracting the product processor\n",
    "product_processor = [li.get_text(strip=True) for li in soup.find_all(\"li\", class_=\"J+igdf\") if \"Processor\" in li.get_text(strip=True)]\n",
    "\n",
    "# Extracting the product warranty\n",
    "product_warranty = [li.get_text(strip=True) for li in soup.find_all(\"li\", class_=\"J+igdf\") if \"Warranty\" in li.get_text(strip=True)]\n",
    "\n",
    "# Extracting the product reviews\n",
    "product_reviews = [span.get_text(strip=True) for span in soup.find_all(\"span\", class_=\"Wphh3N\") if \"Ratings\" in span.get_text(strip=True)]\n",
    "\n",
    "# Ensuring all lists have equal lengths\n",
    "min_length = min(len(product_names), len(product_prices), len(product_sizes), len(product_storage), len(product_camera), len(product_battery), len(product_processor), len(product_warranty), len(product_reviews))\n",
    "\n",
    "# Truncate lists to equal length\n",
    "product_names = product_names[:min_length]\n",
    "product_prices = product_prices[:min_length]\n",
    "product_sizes = product_sizes[:min_length]\n",
    "product_storage = product_storage[:min_length]\n",
    "product_camera = product_camera[:min_length]\n",
    "product_battery = product_battery[:min_length]\n",
    "product_processor = product_processor[:min_length]\n",
    "product_warranty = product_warranty[:min_length]\n",
    "product_reviews = product_reviews[:min_length]\n",
    "\n",
    "# Creating a DataFrame\n",
    "df = pd.DataFrame({\n",
    "    \"Product Name\": product_names,\n",
    "    \"Product Price\": product_prices,\n",
    "    \"Product Size\": product_sizes,\n",
    "    \"Product Storage\": product_storage,\n",
    "    \"Product Camera\": product_camera,\n",
    "    \"Product Battery\": product_battery,\n",
    "    \"Product Processor\": product_processor,\n",
    "    \"Product Warranty\": product_warranty,\n",
    "    \"Product Reviews\": product_reviews\n",
    "})\n",
    "\n",
    "# Writing the DataFrame to an Excel file\n",
    "df.to_excel(\"flipkart_product_data.xlsx\", index=False)\n",
    "\n",
    "print(\"Data has been written to flipkart_product_data.xlsx\")\n"
   ]
  }
 ],
 "metadata": {
  "kernelspec": {
   "display_name": "Python 3 (ipykernel)",
   "language": "python",
   "name": "python3"
  },
  "language_info": {
   "codemirror_mode": {
    "name": "ipython",
    "version": 3
   },
   "file_extension": ".py",
   "mimetype": "text/x-python",
   "name": "python",
   "nbconvert_exporter": "python",
   "pygments_lexer": "ipython3",
   "version": "3.12.4"
  }
 },
 "nbformat": 4,
 "nbformat_minor": 5
}
